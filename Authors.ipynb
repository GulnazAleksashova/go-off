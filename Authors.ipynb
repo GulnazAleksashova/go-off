{
  "nbformat": 4,
  "nbformat_minor": 0,
  "metadata": {
    "colab": {
      "name": "Authors.ipynb",
      "provenance": [],
      "collapsed_sections": [],
      "authorship_tag": "ABX9TyPymreeNSrhBGdodtrS3ABR",
      "include_colab_link": true
    },
    "kernelspec": {
      "name": "python3",
      "display_name": "Python 3"
    },
    "language_info": {
      "name": "python"
    }
  },
  "cells": [
    {
      "cell_type": "markdown",
      "metadata": {
        "id": "view-in-github",
        "colab_type": "text"
      },
      "source": [
        "<a href=\"https://colab.research.google.com/github/GulnazAleksashova/go-off/blob/main/Authors.ipynb\" target=\"_parent\"><img src=\"https://colab.research.google.com/assets/colab-badge.svg\" alt=\"Open In Colab\"/></a>"
      ]
    },
    {
      "cell_type": "markdown",
      "source": [
        "# Импорт библиотек"
      ],
      "metadata": {
        "id": "Btr-0Vyz34eA"
      }
    },
    {
      "cell_type": "code",
      "execution_count": 1,
      "metadata": {
        "id": "sJmvW1kZppT7"
      },
      "outputs": [],
      "source": [
        "from tensorflow.keras.models import Sequential\n",
        "from tensorflow.keras.layers import Dense, Dropout, BatchNormalization\n",
        "from tensorflow.keras.optimizers import SGD\n",
        "from tensorflow.keras.preprocessing.text import Tokenizer, text_to_word_sequence\n",
        "from tensorflow.keras.utils import plot_model\n",
        "from tensorflow.keras import utils\n",
        "from sklearn.model_selection import train_test_split \n",
        "from google.colab import drive \n",
        "\n",
        "import numpy as np\n",
        "import matplotlib.pyplot as plt\n",
        "import os\n",
        "%matplotlib inline"
      ]
    },
    {
      "cell_type": "code",
      "source": [
        "drive.mount('/content/drive')"
      ],
      "metadata": {
        "id": "KwF5-X13riYZ",
        "colab": {
          "base_uri": "https://localhost:8080/"
        },
        "outputId": "13647ff1-c3c7-4eec-b4fa-eb5ee83232d2"
      },
      "execution_count": 2,
      "outputs": [
        {
          "output_type": "stream",
          "name": "stdout",
          "text": [
            "Drive already mounted at /content/drive; to attempt to forcibly remount, call drive.mount(\"/content/drive\", force_remount=True).\n"
          ]
        }
      ]
    },
    {
      "cell_type": "markdown",
      "source": [
        "# Загрузка текстов"
      ],
      "metadata": {
        "id": "JU80QjjR_5hy"
      }
    },
    {
      "cell_type": "code",
      "source": [
        "# Функция для чтения файлов\n",
        "def readText (fileName): \n",
        "    f = open(fileName, 'r')\n",
        "    text = f.read()\n",
        "    text = text.replace('/n', ' ')\n",
        "    return text"
      ],
      "metadata": {
        "id": "4ODrkh2Sryrf"
      },
      "execution_count": 2,
      "outputs": []
    },
    {
      "cell_type": "code",
      "source": [
        "# Загружаем обучающие тексты\n",
        "trainText = []\n",
        "trainText.append(readText('/content/drive/My Drive/Базы/Тексты писателей/(О. Генри) Обучающая_50 вместе.txt'))\n",
        "trainText.append(readText('/content/drive/My Drive/Базы/Тексты писателей/(Стругацкие) Обучающая_5 вместе.txt'))\n",
        "trainText.append(readText('/content/drive/My Drive/Базы/Тексты писателей/(Булгаков) Обучающая_5 вместе.txt'))\n",
        "trainText.append(readText('/content/drive/My Drive/Базы/Тексты писателей/(Клиффорд_Саймак) Обучающая_5 вместе.txt'))\n",
        "trainText.append(readText('/content/drive/My Drive/Базы/Тексты писателей/(Макс Фрай) Обучающая_5 вместе.txt'))\n",
        "trainText.append(readText('/content/drive/My Drive/Базы/Тексты писателей/(Рэй Брэдберри) Обучающая_22 вместе.txt')) \n",
        "\n",
        "className = [\"О. Генри\", \"Стругацкие\", \"Булгаков\", \"Саймак\", \"Фрай\", \"Брэдбери\"] # задаем названия классов\n",
        "nClasses = len(className) #количество классов\n",
        "\n",
        "# Загружаем тестовые тексты\n",
        "testText = []\n",
        "testText.append(readText('/content/drive/My Drive/Базы/Тексты писателей/(О. Генри) Тестовая_20 вместе.txt'))\n",
        "testText.append(readText('/content/drive/My Drive/Базы/Тексты писателей/(Стругацкие) Тестовая_2 вместе.txt'))\n",
        "testText.append(readText('/content/drive/My Drive/Базы/Тексты писателей/(Булгаков) Тестовая_2 вместе.txt'))\n",
        "testText.append(readText('/content/drive/My Drive/Базы/Тексты писателей/(Клиффорд_Саймак) Тестовая_2 вместе.txt'))\n",
        "testText.append(readText('/content/drive/My Drive/Базы/Тексты писателей/(Макс Фрай) Тестовая_2 вместе.txt'))\n",
        "testText.append(readText('/content/drive/My Drive/Базы/Тексты писателей/(Рэй Брэдберри) Тестовая_8 вместе.txt'))"
      ],
      "metadata": {
        "id": "H9cPENSBr1gM"
      },
      "execution_count": 3,
      "outputs": []
    },
    {
      "cell_type": "code",
      "source": [
        "# Создание словаря частотности по индексам\n",
        "maxWordsCount = 20000 # ограничиваем индексы словаря\n",
        "tokenizer = Tokenizer(num_words = maxWordsCount, filters='–—!\"#$%&()*+,-./:;<=>?@[\\\\]^_`{|}~\\t\\n\\xa0–\\ufeff', \n",
        "                      lower=True, split=' ', char_level=False, oov_token = 'unknown') # текст токенизируется по словам\n",
        "tokenizer.fit_on_texts(trainText)\n",
        "items = list(tokenizer.word_index.items())"
      ],
      "metadata": {
        "id": "kZaUJ6Sor5Kn"
      },
      "execution_count": 4,
      "outputs": []
    },
    {
      "cell_type": "code",
      "source": [
        "print(items[:13])"
      ],
      "metadata": {
        "id": "3ThdjI5wr9ul",
        "colab": {
          "base_uri": "https://localhost:8080/"
        },
        "outputId": "932a060a-2c99-46be-af57-de60704f9cd1"
      },
      "execution_count": 6,
      "outputs": [
        {
          "output_type": "stream",
          "name": "stdout",
          "text": [
            "[('unknown', 1), ('и', 2), ('в', 3), ('не', 4), ('я', 5), ('что', 6), ('на', 7), ('с', 8), ('он', 9), ('а', 10), ('как', 11), ('то', 12), ('это', 13)]\n"
          ]
        }
      ]
    },
    {
      "cell_type": "code",
      "source": [
        "print('Индекс слова в словаре: ', tokenizer.word_index[input('Введите слово: ')])"
      ],
      "metadata": {
        "id": "-5wqHiq1r_3G",
        "colab": {
          "base_uri": "https://localhost:8080/"
        },
        "outputId": "39c134a5-4302-4b4a-8db0-88da6d441853"
      },
      "execution_count": 7,
      "outputs": [
        {
          "output_type": "stream",
          "name": "stdout",
          "text": [
            "Введите слово: сеть\n",
            "Индекс слова в словаре:  13123\n"
          ]
        }
      ]
    },
    {
      "cell_type": "code",
      "source": [
        "# Преобразование текста в последовательность индексов согласно словарю частотности\n",
        "trainWordIndexes = tokenizer.texts_to_sequences(trainText) # обучающие тексты в индексы\n",
        "testWordIndexes = tokenizer.texts_to_sequences(testText)   # проверочные тексты в индексы\n",
        "\n",
        "print('Оригинальный текст:                             ', trainText[0][0:100])\n",
        "print('Тот же текст в виде последовательности индексов:', trainWordIndexes[0][0:20])"
      ],
      "metadata": {
        "id": "tQ2fJ_rosFMz",
        "colab": {
          "base_uri": "https://localhost:8080/"
        },
        "outputId": "bf4eb84f-192c-4cd0-da55-15d4d44446e3"
      },
      "execution_count": 5,
      "outputs": [
        {
          "output_type": "stream",
          "name": "stdout",
          "text": [
            "Оригинальный текст:                              «Лиса-на-рассвете»\n",
            "\n",
            "\n",
            "Коралио нежился в полуденном зное, как томная красавица в сурово хранимом гарем\n",
            "Тот же текст в виде последовательности индексов: [1, 7, 1, 1733, 1, 3, 1, 1, 11, 1, 7515, 3, 3237, 1, 1, 274, 1045, 16, 257, 2119]\n"
          ]
        }
      ]
    },
    {
      "cell_type": "code",
      "source": [
        "# Статистика по выборкам\n",
        "print('Обучающая выборка: ')\n",
        "for i in range(6):\n",
        "    print(className[i], ' ', len(trainText[i]), ' символов, ', len(trainWordIndexes[i]), ' слов')\n",
        "print('Всего', len(trainText[0])+len(trainText[1])+len(trainText[2])+len(trainText[3])+len(trainText[4])+len(trainText[5]), ' символов, ',\n",
        "      len(trainWordIndexes[0])+len(trainWordIndexes[1])+len(trainWordIndexes[2])+len(trainWordIndexes[3])+\n",
        "      len(trainWordIndexes[4])+len(trainWordIndexes[5]), ' слов')\n",
        "print()\n",
        "print('Тестовая выборка: ')\n",
        "for i in range(6):\n",
        "    print(className[i], ' ', len(testText[i]), ' символов, ', len(testWordIndexes[i]), ' слов')\n",
        "print('Всего ', len(testText[0])+len(testText[1])+len(testText[2])+\n",
        "      len(testText[3])+len(testText[4])+len(testText[5]), ' символов, ', \n",
        "      len(testWordIndexes[0])+len(testWordIndexes[1])+len(testWordIndexes[2])+len(testWordIndexes[3])\n",
        "      +len(testWordIndexes[4])+len(testWordIndexes[5]), ' слов')"
      ],
      "metadata": {
        "id": "ZF1sbDZVsGBE",
        "colab": {
          "base_uri": "https://localhost:8080/"
        },
        "outputId": "b0eeab35-0b18-40cd-8517-1bf8365745f8"
      },
      "execution_count": 6,
      "outputs": [
        {
          "output_type": "stream",
          "name": "stdout",
          "text": [
            "Обучающая выборка: \n",
            "О. Генри   1049517  символов,  160682  слов\n",
            "Стругацкие   2042469  символов,  313405  слов\n",
            "Булгаков   1765648  символов,  262109  слов\n",
            "Саймак   1609507  символов,  251551  слов\n",
            "Фрай   3700010  символов,  569052  слов\n",
            "Брэдбери   1386454  символов,  214694  слов\n",
            "Всего 11553605  символов,  1771493  слов\n",
            "\n",
            "Тестовая выборка: \n",
            "О. Генри   349662  символов,  53255  слов\n",
            "Стругацкие   704846  символов,  108730  слов\n",
            "Булгаков   875042  символов,  132910  слов\n",
            "Саймак   318811  символов,  50362  слов\n",
            "Фрай   1278191  символов,  196911  слов\n",
            "Брэдбери   868673  символов,  132746  слов\n",
            "Всего  4395225  символов,  674914  слов\n"
          ]
        }
      ]
    },
    {
      "cell_type": "markdown",
      "source": [
        "# Подготовка выборки  для обучения"
      ],
      "metadata": {
        "id": "irzjSMc-tv-0"
      }
    },
    {
      "cell_type": "code",
      "source": [
        "# Функция, делящая вектор индексов на равные части с заданным шагом\n",
        "def getSetFromIndexes(wordIndexes, xLen, step): # принимает последовательность индексов, размер окна, шаг окна\n",
        "    xSample = []\n",
        "    wordsLen = len(wordIndexes)\n",
        "    index = 0 \n",
        "\n",
        "    while (index + xLen <= wordsLen):\n",
        "        xSample.append(wordIndexes[index:index+xLen])\n",
        "        index += step\n",
        "    \n",
        "    return xSample"
      ],
      "metadata": {
        "id": "8ItBx2vnsK18"
      },
      "execution_count": 7,
      "outputs": []
    },
    {
      "cell_type": "code",
      "source": [
        "# Функция, формирующая общую обучающую выборку, разделенную скользящим окном на равные части, по всем авторам.\n",
        "def createSetsMultiClasses(wordIndexes, xLen, step): \n",
        "    nClasses = len(wordIndexes) \n",
        "    classesXSamples = []        # список векторов индексов заданного размера по всем классам\n",
        "    for wI in wordIndexes:      \n",
        "        classesXSamples.append(getSetFromIndexes(wI, xLen, step))  \n",
        "\n",
        "  # Формируем один общий xSamples\n",
        "    xSamples = [] # Итоговая обучающая выборка\n",
        "    ySamples = [] # Метки классов \n",
        "  \n",
        "    for t in range(nClasses):  # \n",
        "        xT = classesXSamples[t]  \n",
        "        for i in range(len(xT)):\n",
        "            xSamples.append(xT[i]) \n",
        "    \n",
        "    # Формируем ySamples по номеру класса\n",
        "        currY = utils.to_categorical(t, nClasses) # в формате OHE\n",
        "        for i in range(len(xT)): \n",
        "            ySamples.append(currY) \n",
        "\n",
        "    xSamples = np.array(xSamples) \n",
        "    ySamples = np.array(ySamples) \n",
        "\n",
        "  \n",
        "    return (xSamples, ySamples)   "
      ],
      "metadata": {
        "id": "2KvZpkcNsOcn"
      },
      "execution_count": 8,
      "outputs": []
    },
    {
      "cell_type": "code",
      "source": [
        "xLen = 1000\n",
        "step = 100"
      ],
      "metadata": {
        "id": "pvZ5PMk8sS4Z"
      },
      "execution_count": 9,
      "outputs": []
    },
    {
      "cell_type": "code",
      "source": [
        "# Итоговые выборки в виде последовательности индексов\n",
        "xTrain, yTrain = createSetsMultiClasses(trainWordIndexes, xLen, step) # извлекаем обучающую выборку\n",
        "xTest, yTest = createSetsMultiClasses(testWordIndexes, xLen, step)  \n",
        "print(xTrain.shape)\n",
        "print(yTrain.shape)\n",
        "print(xTest.shape)\n",
        "print(yTest.shape)\n",
        "\n",
        "# функция работает неправильно. разобраться почему y train не такой же длины как x train"
      ],
      "metadata": {
        "id": "UnZk3KNqsVb2",
        "colab": {
          "base_uri": "https://localhost:8080/"
        },
        "outputId": "0696698e-a7da-4f6e-d5f8-4579d3ad55c5"
      },
      "execution_count": 10,
      "outputs": [
        {
          "output_type": "stream",
          "name": "stdout",
          "text": [
            "(17658, 1000)\n",
            "(17658, 6)\n",
            "(6693, 1000)\n",
            "(6693, 6)\n"
          ]
        }
      ]
    },
    {
      "cell_type": "code",
      "source": [
        "# Преобразование выборок в вид Bag of Words\n",
        "xTrain01 = tokenizer.sequences_to_matrix(xTrain.tolist()) \n",
        "xTest01 = tokenizer.sequences_to_matrix(xTest.tolist()) \n",
        "\n",
        "print(xTrain01.shape)       # Размер обучающей выборки, сформированной в виде Bag of Words векторов\n",
        "print(xTrain01[0][0:50]) "
      ],
      "metadata": {
        "colab": {
          "base_uri": "https://localhost:8080/"
        },
        "id": "UMKNfnOfOncd",
        "outputId": "cf9bef1c-d17b-4c46-ba4c-3a83ddb3b8ad"
      },
      "execution_count": 11,
      "outputs": [
        {
          "output_type": "stream",
          "name": "stdout",
          "text": [
            "(17658, 20000)\n",
            "[0. 1. 1. 1. 1. 0. 1. 1. 1. 1. 1. 1. 1. 1. 1. 1. 1. 1. 1. 1. 1. 0. 1. 1.\n",
            " 0. 0. 1. 0. 1. 1. 1. 1. 1. 0. 0. 0. 1. 1. 1. 1. 1. 1. 1. 1. 1. 1. 0. 0.\n",
            " 1. 0.]\n"
          ]
        }
      ]
    },
    {
      "cell_type": "code",
      "source": [
        "# Функция расспознавания тестовой выборки \n",
        "\n",
        "def createTestMultiClasses(wordIndexes, xLen, step): \n",
        "    nClasses = len(wordIndexes) \n",
        "    xTest6Classes01 = []             \n",
        "    xTest6Classes = []                \n",
        "    for wI in wordIndexes:             \n",
        "        sample = (getSetFromIndexes(wI, xLen, step)) \n",
        "        xTest6Classes.append(np.array(sample))      \n",
        "        xTest6Classes01.append(tokenizer.sequences_to_matrix(sample)) \n",
        "    xTest6Classes01 = np.array(xTest6Classes01)                    \n",
        "  \n",
        "    return xTest6Classes01, xTest6Classes \n",
        "\n",
        "\n",
        "# Выводим результаты\n",
        "\n",
        "def recognizeMultiClass(model, xTest, modelName):\n",
        "    print(\"МОДЕЛЬ: \", modelName)\n",
        "    print()\n",
        "  \n",
        "    val = []\n",
        "    pred = []\n",
        "  \n",
        "    totalSumRec = []\n",
        "  \n",
        "  # Проходим по всем классам\n",
        "    for i in range(nClasses):\n",
        "    # Получаем результаты распознавания класса по блокам слов длины xLen\n",
        "        currPred = model.predict(xTest[i])\n",
        "        pred.append(currPred)\n",
        "        currOut = np.argmax(currPred, axis=1)\n",
        "    \n",
        "    # Считаем процент распознавания каждого класса \n",
        "    # Получам матрицу 6 на 6\n",
        "        evVal = []\n",
        "        sumRec = []\n",
        "        for j in range(nClasses):\n",
        "            sumRec.append(0)\n",
        "            for t in range(len(currOut)):\n",
        "                if (currOut[t] == j):\n",
        "                    sumRec[j] += 1\n",
        "            evVal.append(sumRec[j] / len(currOut))\n",
        "    \n",
        "        totalSumRec.append(sumRec[i])\n",
        "    \n",
        "    # Определяем, как был распознан каждый кусок текста\n",
        "        val.append(evVal[i])\n",
        "        recognizedClass = np.argmax(evVal)\n",
        "    \n",
        "    # Выводим результаты распознавания по текущему классу\n",
        "        isRecognized = \"распознано НЕ ВЕРНО!\"\n",
        "        if (recognizedClass == i):\n",
        "            isRecognized = \"распознано ВЕРНО!\"\n",
        "        print(className[i], \" распознано \", int(100*evVal[i]), \"% сеть считает, что это \", className[recognizedClass], \", \", isRecognized)\n",
        "  \n",
        "  # Выводим средний процент распознавания по всем классам вместе\n",
        "    print()\n",
        "    sumVal = 0\n",
        "    sumCount = 0\n",
        "    lenXtest = []\n",
        "    for i in range(nClasses):\n",
        "        sumCount += len(xTest[i])\n",
        "        sumVal += totalSumRec[i]\n",
        "    print(\"Средний процент распознавания \", int(100*sumVal/sumCount), \"%\")\n",
        "    print()\n",
        "    return sumVal/sumCount\n",
        "\n"
      ],
      "metadata": {
        "id": "-u4d35Ahsf_X"
      },
      "execution_count": 12,
      "outputs": []
    },
    {
      "cell_type": "code",
      "source": [
        "xTestBoW, xTestEmbedding = createTestMultiClasses(testWordIndexes, xLen, step)"
      ],
      "metadata": {
        "id": "bqLjM69ip2a1"
      },
      "execution_count": null,
      "outputs": []
    },
    {
      "cell_type": "markdown",
      "source": [
        "# Архитектура нейронной сети"
      ],
      "metadata": {
        "id": "wrPC9pc8KN6d"
      }
    },
    {
      "cell_type": "code",
      "source": [
        "model = Sequential() # Последовательная модель нейросети\n",
        "model.add(Dense(64, input_dim=maxWordsCount, activation='relu'))\n",
        "model.add(Dropout(0.3)) \n",
        "model.add(BatchNormalization()) \n",
        "model.add(Dense(32, input_dim=maxWordsCount, activation='relu'))\n",
        "model.add(Dropout(0.3)) \n",
        "model.add(BatchNormalization()) \n",
        "model.add(Dense(6, activation='softmax')) # добавляем полносвязный слой на 6 нейронов\n",
        "\n",
        "# Компиляция, составление модели с выбором алгоритма оптимизации, функции потерь и метрики точности\n",
        "model.compile(optimizer='sgd', \n",
        "              loss='categorical_crossentropy', \n",
        "              metrics=['accuracy'])\n",
        "\n",
        "model.summary()\n",
        "plot_model(model, show_shapes = True, dpi=70)"
      ],
      "metadata": {
        "colab": {
          "base_uri": "https://localhost:8080/",
          "height": 1000
        },
        "id": "8W44VmelHa0p",
        "outputId": "456352b0-9580-4eb3-be77-f4031472e3a4"
      },
      "execution_count": 14,
      "outputs": [
        {
          "output_type": "stream",
          "name": "stdout",
          "text": [
            "Model: \"sequential\"\n",
            "_________________________________________________________________\n",
            " Layer (type)                Output Shape              Param #   \n",
            "=================================================================\n",
            " dense (Dense)               (None, 64)                1280064   \n",
            "                                                                 \n",
            " dropout (Dropout)           (None, 64)                0         \n",
            "                                                                 \n",
            " batch_normalization (BatchN  (None, 64)               256       \n",
            " ormalization)                                                   \n",
            "                                                                 \n",
            " dense_1 (Dense)             (None, 32)                2080      \n",
            "                                                                 \n",
            " dropout_1 (Dropout)         (None, 32)                0         \n",
            "                                                                 \n",
            " batch_normalization_1 (Batc  (None, 32)               128       \n",
            " hNormalization)                                                 \n",
            "                                                                 \n",
            " dense_2 (Dense)             (None, 6)                 198       \n",
            "                                                                 \n",
            "=================================================================\n",
            "Total params: 1,282,726\n",
            "Trainable params: 1,282,534\n",
            "Non-trainable params: 192\n",
            "_________________________________________________________________\n"
          ]
        },
        {
          "output_type": "execute_result",
          "data": {
            "image/png": "[encoded data removed]",
            "text/plain": [
              "<IPython.core.display.Image object>"
            ]
          },
          "metadata": {},
          "execution_count": 14
        }
      ]
    },
    {
      "cell_type": "markdown",
      "source": [
        "# Обучение сети"
      ],
      "metadata": {
        "id": "Q5RBhw6EQte-"
      }
    },
    {
      "cell_type": "code",
      "source": [
        "# Обучение векторах из индексов, согласно словарю частотности\n",
        "history1 = model.fit(xTrain01, yTrain, batch_size=512, epochs = 50, verbose = 1, \n",
        "                     validation_data=(xTest01, yTest)\n",
        "                     )\n",
        "                     \n",
        "                     "
      ],
      "metadata": {
        "id": "pWrnqUuGQbD4",
        "colab": {
          "base_uri": "https://localhost:8080/"
        },
        "outputId": "5960a216-3201-46cf-ca94-a2e8a8514306"
      },
      "execution_count": 15,
      "outputs": [
        {
          "output_type": "stream",
          "name": "stdout",
          "text": [
            "Epoch 1/50\n",
            "35/35 [==============================] - 4s 49ms/step - loss: 1.2902 - accuracy: 0.5277 - val_loss: 1.5298 - val_accuracy: 0.4998\n",
            "Epoch 2/50\n",
            "35/35 [==============================] - 1s 32ms/step - loss: 0.6364 - accuracy: 0.8120 - val_loss: 1.3934 - val_accuracy: 0.5929\n",
            "Epoch 3/50\n",
            "35/35 [==============================] - 1s 33ms/step - loss: 0.4632 - accuracy: 0.8882 - val_loss: 1.2931 - val_accuracy: 0.6573\n",
            "Epoch 4/50\n",
            "35/35 [==============================] - 1s 32ms/step - loss: 0.3762 - accuracy: 0.9235 - val_loss: 1.1845 - val_accuracy: 0.7055\n",
            "Epoch 5/50\n",
            "35/35 [==============================] - 1s 32ms/step - loss: 0.3157 - accuracy: 0.9447 - val_loss: 1.0811 - val_accuracy: 0.7358\n",
            "Epoch 6/50\n",
            "35/35 [==============================] - 1s 32ms/step - loss: 0.2782 - accuracy: 0.9554 - val_loss: 0.9781 - val_accuracy: 0.7641\n",
            "Epoch 7/50\n",
            "35/35 [==============================] - 1s 33ms/step - loss: 0.2422 - accuracy: 0.9650 - val_loss: 0.9048 - val_accuracy: 0.7844\n",
            "Epoch 8/50\n",
            "35/35 [==============================] - 1s 33ms/step - loss: 0.2194 - accuracy: 0.9692 - val_loss: 0.8364 - val_accuracy: 0.7956\n",
            "Epoch 9/50\n",
            "35/35 [==============================] - 1s 32ms/step - loss: 0.2005 - accuracy: 0.9744 - val_loss: 0.7738 - val_accuracy: 0.8071\n",
            "Epoch 10/50\n",
            "35/35 [==============================] - 1s 33ms/step - loss: 0.1859 - accuracy: 0.9780 - val_loss: 0.7380 - val_accuracy: 0.8123\n",
            "Epoch 11/50\n",
            "35/35 [==============================] - 1s 32ms/step - loss: 0.1715 - accuracy: 0.9786 - val_loss: 0.6959 - val_accuracy: 0.8219\n",
            "Epoch 12/50\n",
            "35/35 [==============================] - 1s 32ms/step - loss: 0.1575 - accuracy: 0.9822 - val_loss: 0.6653 - val_accuracy: 0.8250\n",
            "Epoch 13/50\n",
            "35/35 [==============================] - 1s 32ms/step - loss: 0.1474 - accuracy: 0.9839 - val_loss: 0.6379 - val_accuracy: 0.8313\n",
            "Epoch 14/50\n",
            "35/35 [==============================] - 1s 32ms/step - loss: 0.1404 - accuracy: 0.9840 - val_loss: 0.6141 - val_accuracy: 0.8373\n",
            "Epoch 15/50\n",
            "35/35 [==============================] - 1s 32ms/step - loss: 0.1357 - accuracy: 0.9846 - val_loss: 0.5999 - val_accuracy: 0.8401\n",
            "Epoch 16/50\n",
            "35/35 [==============================] - 1s 32ms/step - loss: 0.1239 - accuracy: 0.9865 - val_loss: 0.5867 - val_accuracy: 0.8461\n",
            "Epoch 17/50\n",
            "35/35 [==============================] - 1s 32ms/step - loss: 0.1206 - accuracy: 0.9865 - val_loss: 0.5722 - val_accuracy: 0.8475\n",
            "Epoch 18/50\n",
            "35/35 [==============================] - 1s 34ms/step - loss: 0.1144 - accuracy: 0.9879 - val_loss: 0.5653 - val_accuracy: 0.8481\n",
            "Epoch 19/50\n",
            "35/35 [==============================] - 1s 32ms/step - loss: 0.1088 - accuracy: 0.9892 - val_loss: 0.5606 - val_accuracy: 0.8488\n",
            "Epoch 20/50\n",
            "35/35 [==============================] - 1s 32ms/step - loss: 0.1036 - accuracy: 0.9901 - val_loss: 0.5522 - val_accuracy: 0.8515\n",
            "Epoch 21/50\n",
            "35/35 [==============================] - 1s 32ms/step - loss: 0.1004 - accuracy: 0.9886 - val_loss: 0.5385 - val_accuracy: 0.8558\n",
            "Epoch 22/50\n",
            "35/35 [==============================] - 1s 32ms/step - loss: 0.0972 - accuracy: 0.9909 - val_loss: 0.5360 - val_accuracy: 0.8554\n",
            "Epoch 23/50\n",
            "35/35 [==============================] - 1s 34ms/step - loss: 0.0937 - accuracy: 0.9903 - val_loss: 0.5299 - val_accuracy: 0.8560\n",
            "Epoch 24/50\n",
            "35/35 [==============================] - 1s 34ms/step - loss: 0.0909 - accuracy: 0.9906 - val_loss: 0.5203 - val_accuracy: 0.8591\n",
            "Epoch 25/50\n",
            "35/35 [==============================] - 1s 32ms/step - loss: 0.0863 - accuracy: 0.9918 - val_loss: 0.5110 - val_accuracy: 0.8619\n",
            "Epoch 26/50\n",
            "35/35 [==============================] - 1s 34ms/step - loss: 0.0847 - accuracy: 0.9917 - val_loss: 0.5077 - val_accuracy: 0.8613\n",
            "Epoch 27/50\n",
            "35/35 [==============================] - 1s 34ms/step - loss: 0.0803 - accuracy: 0.9921 - val_loss: 0.5035 - val_accuracy: 0.8639\n",
            "Epoch 28/50\n",
            "35/35 [==============================] - 1s 34ms/step - loss: 0.0800 - accuracy: 0.9930 - val_loss: 0.5003 - val_accuracy: 0.8627\n",
            "Epoch 29/50\n",
            "35/35 [==============================] - 1s 33ms/step - loss: 0.0786 - accuracy: 0.9921 - val_loss: 0.4958 - val_accuracy: 0.8648\n",
            "Epoch 30/50\n",
            "35/35 [==============================] - 1s 33ms/step - loss: 0.0743 - accuracy: 0.9933 - val_loss: 0.4904 - val_accuracy: 0.8660\n",
            "Epoch 31/50\n",
            "35/35 [==============================] - 1s 34ms/step - loss: 0.0729 - accuracy: 0.9933 - val_loss: 0.4875 - val_accuracy: 0.8663\n",
            "Epoch 32/50\n",
            "35/35 [==============================] - 1s 33ms/step - loss: 0.0717 - accuracy: 0.9936 - val_loss: 0.4843 - val_accuracy: 0.8655\n",
            "Epoch 33/50\n",
            "35/35 [==============================] - 1s 32ms/step - loss: 0.0691 - accuracy: 0.9931 - val_loss: 0.4794 - val_accuracy: 0.8663\n",
            "Epoch 34/50\n",
            "35/35 [==============================] - 1s 33ms/step - loss: 0.0689 - accuracy: 0.9941 - val_loss: 0.4764 - val_accuracy: 0.8675\n",
            "Epoch 35/50\n",
            "35/35 [==============================] - 1s 33ms/step - loss: 0.0669 - accuracy: 0.9940 - val_loss: 0.4721 - val_accuracy: 0.8675\n",
            "Epoch 36/50\n",
            "35/35 [==============================] - 1s 34ms/step - loss: 0.0650 - accuracy: 0.9939 - val_loss: 0.4662 - val_accuracy: 0.8688\n",
            "Epoch 37/50\n",
            "35/35 [==============================] - 1s 33ms/step - loss: 0.0632 - accuracy: 0.9934 - val_loss: 0.4685 - val_accuracy: 0.8681\n",
            "Epoch 38/50\n",
            "35/35 [==============================] - 1s 33ms/step - loss: 0.0613 - accuracy: 0.9940 - val_loss: 0.4617 - val_accuracy: 0.8702\n",
            "Epoch 39/50\n",
            "35/35 [==============================] - 1s 33ms/step - loss: 0.0605 - accuracy: 0.9954 - val_loss: 0.4564 - val_accuracy: 0.8709\n",
            "Epoch 40/50\n",
            "35/35 [==============================] - 1s 32ms/step - loss: 0.0593 - accuracy: 0.9940 - val_loss: 0.4565 - val_accuracy: 0.8717\n",
            "Epoch 41/50\n",
            "35/35 [==============================] - 1s 32ms/step - loss: 0.0575 - accuracy: 0.9954 - val_loss: 0.4518 - val_accuracy: 0.8727\n",
            "Epoch 42/50\n",
            "35/35 [==============================] - 1s 32ms/step - loss: 0.0574 - accuracy: 0.9954 - val_loss: 0.4467 - val_accuracy: 0.8743\n",
            "Epoch 43/50\n",
            "35/35 [==============================] - 1s 33ms/step - loss: 0.0544 - accuracy: 0.9947 - val_loss: 0.4478 - val_accuracy: 0.8739\n",
            "Epoch 44/50\n",
            "35/35 [==============================] - 1s 33ms/step - loss: 0.0533 - accuracy: 0.9954 - val_loss: 0.4457 - val_accuracy: 0.8732\n",
            "Epoch 45/50\n",
            "35/35 [==============================] - 1s 33ms/step - loss: 0.0528 - accuracy: 0.9951 - val_loss: 0.4406 - val_accuracy: 0.8763\n",
            "Epoch 46/50\n",
            "35/35 [==============================] - 1s 32ms/step - loss: 0.0517 - accuracy: 0.9953 - val_loss: 0.4406 - val_accuracy: 0.8752\n",
            "Epoch 47/50\n",
            "35/35 [==============================] - 1s 33ms/step - loss: 0.0522 - accuracy: 0.9955 - val_loss: 0.4372 - val_accuracy: 0.8758\n",
            "Epoch 48/50\n",
            "35/35 [==============================] - 1s 32ms/step - loss: 0.0515 - accuracy: 0.9951 - val_loss: 0.4320 - val_accuracy: 0.8766\n",
            "Epoch 49/50\n",
            "35/35 [==============================] - 1s 33ms/step - loss: 0.0487 - accuracy: 0.9956 - val_loss: 0.4359 - val_accuracy: 0.8770\n",
            "Epoch 50/50\n",
            "35/35 [==============================] - 1s 31ms/step - loss: 0.0505 - accuracy: 0.9945 - val_loss: 0.4362 - val_accuracy: 0.8754\n"
          ]
        }
      ]
    },
    {
      "cell_type": "code",
      "source": [
        "# Визуализация процесса обучения\n",
        "plt.figure(figsize=(10,5))\n",
        "plt.plot(history1.history['loss'], label ='ошибка на обучающем наборе')\n",
        "plt.plot(history1.history['val_loss'], label = 'ошибка на тестовором наборе')\n",
        "plt.xlabel('эпоха обучения')\n",
        "plt.ylabel('ошибочные варианты')\n",
        "plt.legend()\n",
        "plt.show()"
      ],
      "metadata": {
        "id": "oXNzrV7IQyCp",
        "colab": {
          "base_uri": "https://localhost:8080/",
          "height": 337
        },
        "outputId": "26563750-3b02-4c90-97d7-7f851ad161b2"
      },
      "execution_count": 16,
      "outputs": [
        {
          "output_type": "display_data",
          "data": {
            "image/png": "[encoded data removed]",
            "text/plain": [
              "<Figure size 720x360 with 1 Axes>"
            ]
          },
          "metadata": {
            "needs_background": "light"
          }
        }
      ]
    },
    {
      "cell_type": "code",
      "source": [
        "pred1 = recognizeMultiClass(model, xTestBoW, 'Authors recognition') "
      ],
      "metadata": {
        "id": "IVY0pyy4RSHJ",
        "colab": {
          "base_uri": "https://localhost:8080/"
        },
        "outputId": "27b748b7-69b2-4024-81d7-7f4321e78d6d"
      },
      "execution_count": 17,
      "outputs": [
        {
          "output_type": "stream",
          "name": "stdout",
          "text": [
            "МОДЕЛЬ:  Authors recognition\n",
            "\n",
            "О. Генри  распознано  90 % сеть считает, что это  О. Генри ,  распознано ВЕРНО!\n",
            "Стругацкие  распознано  86 % сеть считает, что это  Стругацкие ,  распознано ВЕРНО!\n",
            "Булгаков  распознано  89 % сеть считает, что это  Булгаков ,  распознано ВЕРНО!\n",
            "Саймак  распознано  86 % сеть считает, что это  Саймак ,  распознано ВЕРНО!\n",
            "Фрай  распознано  87 % сеть считает, что это  Фрай ,  распознано ВЕРНО!\n",
            "Брэдбери  распознано  85 % сеть считает, что это  Брэдбери ,  распознано ВЕРНО!\n",
            "\n",
            "Средний процент распознавания  87 %\n",
            "\n"
          ]
        }
      ]
    }
  ]
}